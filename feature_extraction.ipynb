{
 "cells": [
  {
   "cell_type": "code",
   "execution_count": 1,
   "metadata": {},
   "outputs": [],
   "source": [
    "import numpy as np\n",
    "import warnings\n",
    "warnings.filterwarnings('ignore')\n",
    "from bokeh.io import output_notebook, show, reset_output\n",
    "from bokeh.plotting import figure\n",
    "import pandas as pd\n",
    "from pprint import pprint"
   ]
  },
  {
   "cell_type": "code",
   "execution_count": 2,
   "metadata": {},
   "outputs": [],
   "source": [
    "import holidays"
   ]
  },
  {
   "cell_type": "code",
   "execution_count": 3,
   "metadata": {},
   "outputs": [],
   "source": [
    "from datetime import datetime,date,time,timedelta"
   ]
  },
  {
   "cell_type": "code",
   "execution_count": 4,
   "metadata": {},
   "outputs": [
    {
     "data": {
      "text/html": [
       "<style>.container { width:100% !important; }</style>"
      ],
      "text/plain": [
       "<IPython.core.display.HTML object>"
      ]
     },
     "metadata": {},
     "output_type": "display_data"
    }
   ],
   "source": [
    "from IPython.core.display import display, HTML\n",
    "display(HTML(\"<style>.container { width:100% !important; }</style>\"))\n"
   ]
  },
  {
   "cell_type": "markdown",
   "metadata": {},
   "source": [
    "#### Load dataset path here"
   ]
  },
  {
   "cell_type": "code",
   "execution_count": 5,
   "metadata": {},
   "outputs": [],
   "source": [
    "path_to_ds = '../dataset'"
   ]
  },
  {
   "cell_type": "code",
   "execution_count": 6,
   "metadata": {},
   "outputs": [],
   "source": [
    "# df = pd.read_csv('../dataset/stitched_df.csv').dropna()\n",
    "# df['ds'] = pd.to_datetime(df['ds'])"
   ]
  },
  {
   "cell_type": "code",
   "execution_count": 7,
   "metadata": {},
   "outputs": [],
   "source": [
    "# df = df[['ds','y','w1','w2']]"
   ]
  },
  {
   "cell_type": "code",
   "execution_count": 8,
   "metadata": {},
   "outputs": [],
   "source": [
    "# start_date = [\n",
    "#     datetime(2018,6,7,11,0,0),datetime(2018,7,3,8,55),datetime(2018,7,3,10,41),datetime(2019,2,12,13,35),datetime(2019,2,17,20,33),\n",
    "#     datetime(2019,4,3,10,29),datetime(2019,4,11,6,54),datetime(2019,4,17,19,0),datetime(2019,4,17,20,13),datetime(2018,8,13,17,20),\n",
    "#     datetime(2018,12,30,15,0),datetime(2018,11,15,8,26),\n",
    "# ]\n",
    "# end_date = [\n",
    "#     datetime(2018,6,7,13,30),datetime(2018,7,3,10,39),datetime(2018,7,3,12,57),datetime(2019,2,12,14,41),datetime(2019,2,17,21,50),\n",
    "#     datetime(2019,4,3,12,10),datetime(2019,4,11,7,35),datetime(2019,4,17,20,11,0),datetime(2019,4,17,21,0),datetime(2018,8,13,19,37),\n",
    "#     datetime(2018,12,30,15,40),datetime(2018,11,15,8,39),\n",
    "# ]"
   ]
  },
  {
   "cell_type": "code",
   "execution_count": 9,
   "metadata": {},
   "outputs": [],
   "source": [
    "# mask = df['ds'] < datetime(2017,2,2,2,2)\n",
    "# for i in range(len(start_date)):\n",
    "#     mask = mask | ((df['ds'] >= start_date[i]) & ( df['ds'] <=  end_date[i] ))"
   ]
  },
  {
   "cell_type": "code",
   "execution_count": 10,
   "metadata": {},
   "outputs": [],
   "source": [
    "# ndf = df.copy()\n",
    "# ndf.loc[mask,'y'] =  np.nan\n",
    "# ndf.interpolate(inplace = True)\n",
    "# ndf = ndf[mask]"
   ]
  },
  {
   "cell_type": "code",
   "execution_count": 11,
   "metadata": {},
   "outputs": [],
   "source": [
    "# ndf['yhat'] = ndf['y'] + 2*np.random.normal(0,1,len(ndf['y']))"
   ]
  },
  {
   "cell_type": "code",
   "execution_count": 12,
   "metadata": {},
   "outputs": [],
   "source": [
    "# # output_notebook()\n",
    "# TOOLS = 'save,box_zoom,reset,wheel_zoom,pan'\n",
    "# p = figure(title=\"OPM\", y_axis_type=\"linear\", plot_height = 800,x_axis_type=\"datetime\",\n",
    "#            tools = TOOLS, plot_width = 900)\n",
    "# p.xaxis.axis_label = 'Time'\n",
    "# p.yaxis.axis_label = 'OPM'\n",
    "# p.line(df['ds'],df['y'],color = 'green',line_cap = 'round')\n",
    "# # p.circle(ndf['ds'],ndf['yhat'],color = 'orange',line_cap = 'round' )\n",
    "# # p.line(ndf['ds'],ndf['yhat'],color = 'orange',line_cap = 'round' )\n",
    "# # p.circle(ndf['ds'],ndf['y'],color = 'red', line_cap = 'round')\n",
    "# # p.line(ndf['ds'],ndf['y'],color = 'red', line_cap = 'round')\n",
    "# show(p)"
   ]
  },
  {
   "cell_type": "code",
   "execution_count": 13,
   "metadata": {},
   "outputs": [],
   "source": [
    "# df.loc[mask,'y'] = ndf['yhat']"
   ]
  },
  {
   "cell_type": "code",
   "execution_count": 14,
   "metadata": {},
   "outputs": [],
   "source": [
    "# df.to_csv('../dataset/clean_df.csv',index=False)"
   ]
  },
  {
   "cell_type": "code",
   "execution_count": 15,
   "metadata": {},
   "outputs": [],
   "source": [
    "ndf = pd.read_csv(path_to_ds+'/clean_df.csv').dropna()\n",
    "ndf['ds'] = pd.to_datetime(ndf['ds'])"
   ]
  },
  {
   "cell_type": "code",
   "execution_count": 16,
   "metadata": {},
   "outputs": [],
   "source": [
    "cdf = ndf.copy()"
   ]
  },
  {
   "cell_type": "code",
   "execution_count": 17,
   "metadata": {},
   "outputs": [],
   "source": [
    "cdf = cdf[ ['ds','y','w1','w2'] ]"
   ]
  },
  {
   "cell_type": "code",
   "execution_count": 18,
   "metadata": {},
   "outputs": [
    {
     "data": {
      "text/plain": [
       "Index(['ds', 'y', 'w1', 'w2'], dtype='object')"
      ]
     },
     "execution_count": 18,
     "metadata": {},
     "output_type": "execute_result"
    }
   ],
   "source": [
    "cdf.columns"
   ]
  },
  {
   "cell_type": "code",
   "execution_count": null,
   "metadata": {},
   "outputs": [],
   "source": []
  },
  {
   "cell_type": "markdown",
   "metadata": {},
   "source": [
    "## Encoder Decoder Feature Extraction"
   ]
  },
  {
   "cell_type": "markdown",
   "metadata": {},
   "source": [
    "##### ```uk_holidays```: holidays of UK"
   ]
  },
  {
   "cell_type": "code",
   "execution_count": 19,
   "metadata": {},
   "outputs": [],
   "source": [
    "uk_holidays = holidays.CountryHoliday('UK')"
   ]
  },
  {
   "cell_type": "code",
   "execution_count": 20,
   "metadata": {},
   "outputs": [],
   "source": [
    "cdf['inh'] = cdf['ds'].dt.date.apply( lambda x : 1 if x in uk_holidays else 0)"
   ]
  },
  {
   "cell_type": "code",
   "execution_count": 21,
   "metadata": {},
   "outputs": [],
   "source": [
    "# uk_holidays"
   ]
  },
  {
   "cell_type": "code",
   "execution_count": 22,
   "metadata": {},
   "outputs": [],
   "source": [
    "cdf['dt'] =  cdf['ds']\n",
    "cdf.set_index('ds',inplace = True)"
   ]
  },
  {
   "cell_type": "code",
   "execution_count": 23,
   "metadata": {},
   "outputs": [
    {
     "data": {
      "text/html": [
       "<div>\n",
       "<style scoped>\n",
       "    .dataframe tbody tr th:only-of-type {\n",
       "        vertical-align: middle;\n",
       "    }\n",
       "\n",
       "    .dataframe tbody tr th {\n",
       "        vertical-align: top;\n",
       "    }\n",
       "\n",
       "    .dataframe thead th {\n",
       "        text-align: right;\n",
       "    }\n",
       "</style>\n",
       "<table border=\"1\" class=\"dataframe\">\n",
       "  <thead>\n",
       "    <tr style=\"text-align: right;\">\n",
       "      <th></th>\n",
       "      <th>y</th>\n",
       "      <th>w1</th>\n",
       "      <th>w2</th>\n",
       "      <th>inh</th>\n",
       "      <th>dt</th>\n",
       "    </tr>\n",
       "    <tr>\n",
       "      <th>ds</th>\n",
       "      <th></th>\n",
       "      <th></th>\n",
       "      <th></th>\n",
       "      <th></th>\n",
       "      <th></th>\n",
       "    </tr>\n",
       "  </thead>\n",
       "  <tbody>\n",
       "    <tr>\n",
       "      <th>2018-05-23 10:37:00</th>\n",
       "      <td>60.6</td>\n",
       "      <td>52.2</td>\n",
       "      <td>51.8</td>\n",
       "      <td>0</td>\n",
       "      <td>2018-05-23 10:37:00</td>\n",
       "    </tr>\n",
       "    <tr>\n",
       "      <th>2018-05-23 10:38:00</th>\n",
       "      <td>60.6</td>\n",
       "      <td>52.6</td>\n",
       "      <td>50.0</td>\n",
       "      <td>0</td>\n",
       "      <td>2018-05-23 10:38:00</td>\n",
       "    </tr>\n",
       "    <tr>\n",
       "      <th>2018-05-23 10:39:00</th>\n",
       "      <td>64.4</td>\n",
       "      <td>51.8</td>\n",
       "      <td>57.2</td>\n",
       "      <td>0</td>\n",
       "      <td>2018-05-23 10:39:00</td>\n",
       "    </tr>\n",
       "    <tr>\n",
       "      <th>2018-05-23 10:40:00</th>\n",
       "      <td>60.4</td>\n",
       "      <td>54.6</td>\n",
       "      <td>57.2</td>\n",
       "      <td>0</td>\n",
       "      <td>2018-05-23 10:40:00</td>\n",
       "    </tr>\n",
       "    <tr>\n",
       "      <th>2018-05-23 10:41:00</th>\n",
       "      <td>58.8</td>\n",
       "      <td>52.2</td>\n",
       "      <td>55.8</td>\n",
       "      <td>0</td>\n",
       "      <td>2018-05-23 10:41:00</td>\n",
       "    </tr>\n",
       "  </tbody>\n",
       "</table>\n",
       "</div>"
      ],
      "text/plain": [
       "                        y    w1    w2  inh                  dt\n",
       "ds                                                            \n",
       "2018-05-23 10:37:00  60.6  52.2  51.8    0 2018-05-23 10:37:00\n",
       "2018-05-23 10:38:00  60.6  52.6  50.0    0 2018-05-23 10:38:00\n",
       "2018-05-23 10:39:00  64.4  51.8  57.2    0 2018-05-23 10:39:00\n",
       "2018-05-23 10:40:00  60.4  54.6  57.2    0 2018-05-23 10:40:00\n",
       "2018-05-23 10:41:00  58.8  52.2  55.8    0 2018-05-23 10:41:00"
      ]
     },
     "execution_count": 23,
     "metadata": {},
     "output_type": "execute_result"
    }
   ],
   "source": [
    "cdf.head()"
   ]
  },
  {
   "cell_type": "markdown",
   "metadata": {},
   "source": [
    "#### ```look_back```: number days to take data from the past"
   ]
  },
  {
   "cell_type": "code",
   "execution_count": 24,
   "metadata": {},
   "outputs": [],
   "source": [
    "look_back = 28"
   ]
  },
  {
   "cell_type": "code",
   "execution_count": 25,
   "metadata": {},
   "outputs": [],
   "source": [
    "val_cols =  []\n",
    "nh_cols  =  []\n",
    "for i in reversed(range(1,look_back+1)):\n",
    "    col = '-%dy'%i\n",
    "    cdf [col] = cdf['y'].shift(periods = 1,freq = timedelta(days = i ))\n",
    "    val_cols.append( col )\n",
    "    col = '-%dinh'%i\n",
    "    cdf [col] = cdf['inh'].shift(periods = 1,freq = timedelta(days = i ))\n",
    "    nh_cols.append( col )"
   ]
  },
  {
   "cell_type": "markdown",
   "metadata": {},
   "source": [
    "#### ```use_next```: number of days to take data from the future"
   ]
  },
  {
   "cell_type": "code",
   "execution_count": 26,
   "metadata": {},
   "outputs": [],
   "source": [
    "use_next = 7"
   ]
  },
  {
   "cell_type": "code",
   "execution_count": 27,
   "metadata": {},
   "outputs": [],
   "source": [
    "for i in (range(use_next)):\n",
    "    sym = '+'\n",
    "    if i == 0:\n",
    "        sym = ''\n",
    "    col = '%s%dy'%(sym,i)\n",
    "    cdf [col] = cdf['y'].shift(periods = -1,freq = timedelta(days = i ))\n",
    "    val_cols.append( col )\n",
    "    col = '%s%dinh'%(sym,i)\n",
    "    cdf [col] = cdf['inh'].shift(periods = -1,freq = timedelta(days = i ))\n",
    "    nh_cols.append( col )"
   ]
  },
  {
   "cell_type": "code",
   "execution_count": 28,
   "metadata": {},
   "outputs": [],
   "source": [
    "feat_cols = list(zip(val_cols,nh_cols))"
   ]
  },
  {
   "cell_type": "code",
   "execution_count": 29,
   "metadata": {},
   "outputs": [],
   "source": [
    "feat_encoder = []\n",
    "i = 0\n",
    "for j in range(-look_back,use_next):\n",
    "    sym  = ''\n",
    "    if j > 0:\n",
    "        sym = '+'\n",
    "    cols = '%s%dD'%(sym,j)\n",
    "    cdf[ cols ] =  list( zip(cdf[feat_cols[i][0]],cdf[feat_cols[i][1]]) )\n",
    "    i = i+ 1\n",
    "    feat_encoder.append(cols)\n",
    "#     break"
   ]
  },
  {
   "cell_type": "code",
   "execution_count": 30,
   "metadata": {
    "scrolled": true
   },
   "outputs": [],
   "source": [
    "# pprint(cdf.dropna().head(1))\n",
    "cols_to_preserve = ['dt','y','w1','w2','-28y']+feat_encoder"
   ]
  },
  {
   "cell_type": "code",
   "execution_count": 31,
   "metadata": {},
   "outputs": [],
   "source": [
    "cdf = cdf[cols_to_preserve]"
   ]
  },
  {
   "cell_type": "code",
   "execution_count": 32,
   "metadata": {},
   "outputs": [],
   "source": [
    "# cdf.dropna(inplace = True )"
   ]
  },
  {
   "cell_type": "code",
   "execution_count": 33,
   "metadata": {},
   "outputs": [],
   "source": [
    "X_encoder = cdf.dropna()[feat_encoder[:-7]].values"
   ]
  },
  {
   "cell_type": "code",
   "execution_count": 34,
   "metadata": {},
   "outputs": [
    {
     "name": "stdout",
     "output_type": "stream",
     "text": [
      "Encoder Feature  (390195, 28, 2)\n"
     ]
    }
   ],
   "source": [
    "XX_encoder = [ ]\n",
    "for i in range(len(X_encoder)):\n",
    "    XX_encoder.append(np.asarray(list(X_encoder[i])))\n",
    "XX_encoder = np.array( XX_encoder )\n",
    "print( 'Encoder Feature ', XX_encoder.shape)"
   ]
  },
  {
   "cell_type": "code",
   "execution_count": 35,
   "metadata": {},
   "outputs": [
    {
     "name": "stdout",
     "output_type": "stream",
     "text": [
      "Decoder Feature  (390195, 7, 2)\n"
     ]
    }
   ],
   "source": [
    "XX_decoder = [ ]\n",
    "for i in range(len(X_encoder)):\n",
    "    XX_decoder.append(np.asarray(list(X_encoder[i][-7:])))\n",
    "XX_decoder = np.array( XX_decoder )\n",
    "print( 'Decoder Feature ', XX_decoder.shape)"
   ]
  },
  {
   "cell_type": "code",
   "execution_count": 36,
   "metadata": {},
   "outputs": [],
   "source": [
    "Y_decoder = cdf.dropna()[feat_encoder[-7:]].values"
   ]
  },
  {
   "cell_type": "code",
   "execution_count": 37,
   "metadata": {},
   "outputs": [
    {
     "name": "stdout",
     "output_type": "stream",
     "text": [
      "Decoder Targets  (390195, 7, 2)\n"
     ]
    }
   ],
   "source": [
    "YY_decoder = [ ]\n",
    "for i in range(len(Y_decoder)):\n",
    "    YY_decoder.append(np.asarray(list(Y_decoder[i])))\n",
    "YY_decoder = np.array( YY_decoder )\n",
    "print( 'Decoder Targets ', YY_decoder.shape)"
   ]
  },
  {
   "cell_type": "code",
   "execution_count": 38,
   "metadata": {},
   "outputs": [],
   "source": [
    "VAE_dt = list(cdf['dt'].dropna())"
   ]
  },
  {
   "cell_type": "code",
   "execution_count": 39,
   "metadata": {},
   "outputs": [],
   "source": [
    "X_pre_train = { 'encoderIn':XX_encoder,'decoderIn':XX_decoder}\n",
    "Y_pre_train = YY_decoder\n",
    "VAE_data = {'X':X_pre_train, 'Y':Y_pre_train,'dt':VAE_dt}\n"
   ]
  },
  {
   "cell_type": "markdown",
   "metadata": {},
   "source": [
    "### Feature Extraction for encoder in inference step"
   ]
  },
  {
   "cell_type": "markdown",
   "metadata": {},
   "source": [
    "##### ```forecast_next```: Number of days to forecast in the prediction/inference step\n",
    "should be less than ```use_next```"
   ]
  },
  {
   "cell_type": "code",
   "execution_count": 40,
   "metadata": {},
   "outputs": [],
   "source": [
    "forecast_next = 1"
   ]
  },
  {
   "cell_type": "code",
   "execution_count": 41,
   "metadata": {},
   "outputs": [],
   "source": [
    "cols_to_preserve = cols_to_preserve[:-use_next+forecast_next]\n",
    "cdf = cdf[ cols_to_preserve ].dropna()"
   ]
  },
  {
   "cell_type": "code",
   "execution_count": 42,
   "metadata": {},
   "outputs": [
    {
     "name": "stdout",
     "output_type": "stream",
     "text": [
      "Encoder Inference Feature  (390195, 28, 2)\n"
     ]
    }
   ],
   "source": [
    "X_encoder = cdf.dropna()[feat_encoder[:-7]].values\n",
    "XX_encoder_inf = [ ]\n",
    "for i in range(len(X_encoder)):\n",
    "    XX_encoder_inf.append(np.asarray(list(X_encoder[i])))\n",
    "XX_encoder_inf = np.array( XX_encoder_inf )\n",
    "print( 'Encoder Inference Feature ', XX_encoder_inf.shape)"
   ]
  },
  {
   "cell_type": "code",
   "execution_count": 43,
   "metadata": {},
   "outputs": [],
   "source": [
    "Y_nn = (cdf.dropna()['y'].values).reshape(-1,1,1)"
   ]
  },
  {
   "cell_type": "code",
   "execution_count": null,
   "metadata": {},
   "outputs": [],
   "source": []
  },
  {
   "cell_type": "code",
   "execution_count": null,
   "metadata": {},
   "outputs": [],
   "source": []
  },
  {
   "cell_type": "code",
   "execution_count": 44,
   "metadata": {},
   "outputs": [],
   "source": [
    "colors = ['#003f5c','#374c80','#7a5195','#bc5090','#ef5675','#ff764a','#ffa600']\n",
    "TOOLS = 'save,box_zoom,reset,wheel_zoom,pan'\n",
    "p = figure(title=\"OPM\", y_axis_type=\"linear\", plot_height = 800,x_axis_type=\"datetime\",\n",
    "           tools = TOOLS, plot_width = 900)\n",
    "p.xaxis.axis_label = 'Time'\n",
    "p.yaxis.axis_label = 'OPM'\n",
    "# p.line(cdf['dt'],cdf['-1y'],color = 'green')\n",
    "p.line(cdf['dt'],cdf['y'],color = 'blue')\n",
    "show(p)"
   ]
  },
  {
   "cell_type": "code",
   "execution_count": 45,
   "metadata": {},
   "outputs": [
    {
     "data": {
      "text/html": [
       "<div>\n",
       "<style scoped>\n",
       "    .dataframe tbody tr th:only-of-type {\n",
       "        vertical-align: middle;\n",
       "    }\n",
       "\n",
       "    .dataframe tbody tr th {\n",
       "        vertical-align: top;\n",
       "    }\n",
       "\n",
       "    .dataframe thead th {\n",
       "        text-align: right;\n",
       "    }\n",
       "</style>\n",
       "<table border=\"1\" class=\"dataframe\">\n",
       "  <thead>\n",
       "    <tr style=\"text-align: right;\">\n",
       "      <th></th>\n",
       "      <th>dt</th>\n",
       "      <th>y</th>\n",
       "      <th>w1</th>\n",
       "      <th>w2</th>\n",
       "      <th>-28y</th>\n",
       "      <th>-28D</th>\n",
       "      <th>-27D</th>\n",
       "      <th>-26D</th>\n",
       "      <th>-25D</th>\n",
       "      <th>-24D</th>\n",
       "      <th>...</th>\n",
       "      <th>-9D</th>\n",
       "      <th>-8D</th>\n",
       "      <th>-7D</th>\n",
       "      <th>-6D</th>\n",
       "      <th>-5D</th>\n",
       "      <th>-4D</th>\n",
       "      <th>-3D</th>\n",
       "      <th>-2D</th>\n",
       "      <th>-1D</th>\n",
       "      <th>0D</th>\n",
       "    </tr>\n",
       "    <tr>\n",
       "      <th>ds</th>\n",
       "      <th></th>\n",
       "      <th></th>\n",
       "      <th></th>\n",
       "      <th></th>\n",
       "      <th></th>\n",
       "      <th></th>\n",
       "      <th></th>\n",
       "      <th></th>\n",
       "      <th></th>\n",
       "      <th></th>\n",
       "      <th></th>\n",
       "      <th></th>\n",
       "      <th></th>\n",
       "      <th></th>\n",
       "      <th></th>\n",
       "      <th></th>\n",
       "      <th></th>\n",
       "      <th></th>\n",
       "      <th></th>\n",
       "      <th></th>\n",
       "      <th></th>\n",
       "    </tr>\n",
       "  </thead>\n",
       "  <tbody>\n",
       "    <tr>\n",
       "      <th>2018-06-20 10:37:00</th>\n",
       "      <td>2018-06-20 10:37:00</td>\n",
       "      <td>54.0</td>\n",
       "      <td>50.4</td>\n",
       "      <td>52.4</td>\n",
       "      <td>60.6</td>\n",
       "      <td>(60.6, 0.0)</td>\n",
       "      <td>(57.6, 0.0)</td>\n",
       "      <td>(60.6, 0.0)</td>\n",
       "      <td>(46.8, 0.0)</td>\n",
       "      <td>(45.6, 0.0)</td>\n",
       "      <td>...</td>\n",
       "      <td>(60.0, 0.0)</td>\n",
       "      <td>(52.2, 0.0)</td>\n",
       "      <td>(50.4, 0.0)</td>\n",
       "      <td>(53.4, 0.0)</td>\n",
       "      <td>(56.0, 0.0)</td>\n",
       "      <td>(43.2, 0.0)</td>\n",
       "      <td>(40.0, 0.0)</td>\n",
       "      <td>(55.6, 0.0)</td>\n",
       "      <td>(42.6, 0.0)</td>\n",
       "      <td>(54.0, 0)</td>\n",
       "    </tr>\n",
       "    <tr>\n",
       "      <th>2018-06-20 10:38:00</th>\n",
       "      <td>2018-06-20 10:38:00</td>\n",
       "      <td>56.4</td>\n",
       "      <td>50.2</td>\n",
       "      <td>51.2</td>\n",
       "      <td>60.6</td>\n",
       "      <td>(60.6, 0.0)</td>\n",
       "      <td>(57.2, 0.0)</td>\n",
       "      <td>(60.2, 0.0)</td>\n",
       "      <td>(46.2, 0.0)</td>\n",
       "      <td>(44.0, 0.0)</td>\n",
       "      <td>...</td>\n",
       "      <td>(60.0, 0.0)</td>\n",
       "      <td>(50.8, 0.0)</td>\n",
       "      <td>(50.2, 0.0)</td>\n",
       "      <td>(54.4, 0.0)</td>\n",
       "      <td>(53.2, 0.0)</td>\n",
       "      <td>(46.2, 0.0)</td>\n",
       "      <td>(40.6, 0.0)</td>\n",
       "      <td>(54.4, 0.0)</td>\n",
       "      <td>(42.6, 0.0)</td>\n",
       "      <td>(56.4, 0)</td>\n",
       "    </tr>\n",
       "    <tr>\n",
       "      <th>2018-06-20 10:39:00</th>\n",
       "      <td>2018-06-20 10:39:00</td>\n",
       "      <td>55.2</td>\n",
       "      <td>49.8</td>\n",
       "      <td>50.0</td>\n",
       "      <td>64.4</td>\n",
       "      <td>(64.4, 0.0)</td>\n",
       "      <td>(56.6, 0.0)</td>\n",
       "      <td>(58.2, 0.0)</td>\n",
       "      <td>(44.2, 0.0)</td>\n",
       "      <td>(41.8, 0.0)</td>\n",
       "      <td>...</td>\n",
       "      <td>(56.8, 0.0)</td>\n",
       "      <td>(48.6, 0.0)</td>\n",
       "      <td>(49.8, 0.0)</td>\n",
       "      <td>(55.4, 0.0)</td>\n",
       "      <td>(50.8, 0.0)</td>\n",
       "      <td>(46.0, 0.0)</td>\n",
       "      <td>(40.0, 0.0)</td>\n",
       "      <td>(54.4, 0.0)</td>\n",
       "      <td>(44.8, 0.0)</td>\n",
       "      <td>(55.2, 0)</td>\n",
       "    </tr>\n",
       "    <tr>\n",
       "      <th>2018-06-20 10:40:00</th>\n",
       "      <td>2018-06-20 10:40:00</td>\n",
       "      <td>55.4</td>\n",
       "      <td>48.2</td>\n",
       "      <td>47.6</td>\n",
       "      <td>60.4</td>\n",
       "      <td>(60.4, 0.0)</td>\n",
       "      <td>(54.4, 0.0)</td>\n",
       "      <td>(56.2, 0.0)</td>\n",
       "      <td>(43.0, 0.0)</td>\n",
       "      <td>(39.2, 0.0)</td>\n",
       "      <td>...</td>\n",
       "      <td>(57.0, 0.0)</td>\n",
       "      <td>(48.6, 0.0)</td>\n",
       "      <td>(48.2, 0.0)</td>\n",
       "      <td>(57.8, 0.0)</td>\n",
       "      <td>(52.6, 0.0)</td>\n",
       "      <td>(46.4, 0.0)</td>\n",
       "      <td>(41.4, 0.0)</td>\n",
       "      <td>(58.4, 0.0)</td>\n",
       "      <td>(46.6, 0.0)</td>\n",
       "      <td>(55.4, 0)</td>\n",
       "    </tr>\n",
       "    <tr>\n",
       "      <th>2018-06-20 10:41:00</th>\n",
       "      <td>2018-06-20 10:41:00</td>\n",
       "      <td>54.6</td>\n",
       "      <td>51.8</td>\n",
       "      <td>51.4</td>\n",
       "      <td>58.8</td>\n",
       "      <td>(58.8, 0.0)</td>\n",
       "      <td>(54.2, 0.0)</td>\n",
       "      <td>(50.8, 0.0)</td>\n",
       "      <td>(41.8, 0.0)</td>\n",
       "      <td>(35.6, 0.0)</td>\n",
       "      <td>...</td>\n",
       "      <td>(55.4, 0.0)</td>\n",
       "      <td>(51.8, 0.0)</td>\n",
       "      <td>(51.8, 0.0)</td>\n",
       "      <td>(59.2, 0.0)</td>\n",
       "      <td>(48.6, 0.0)</td>\n",
       "      <td>(46.8, 0.0)</td>\n",
       "      <td>(40.6, 0.0)</td>\n",
       "      <td>(54.0, 0.0)</td>\n",
       "      <td>(53.0, 0.0)</td>\n",
       "      <td>(54.6, 0)</td>\n",
       "    </tr>\n",
       "  </tbody>\n",
       "</table>\n",
       "<p>5 rows × 34 columns</p>\n",
       "</div>"
      ],
      "text/plain": [
       "                                     dt     y    w1    w2  -28y         -28D  \\\n",
       "ds                                                                             \n",
       "2018-06-20 10:37:00 2018-06-20 10:37:00  54.0  50.4  52.4  60.6  (60.6, 0.0)   \n",
       "2018-06-20 10:38:00 2018-06-20 10:38:00  56.4  50.2  51.2  60.6  (60.6, 0.0)   \n",
       "2018-06-20 10:39:00 2018-06-20 10:39:00  55.2  49.8  50.0  64.4  (64.4, 0.0)   \n",
       "2018-06-20 10:40:00 2018-06-20 10:40:00  55.4  48.2  47.6  60.4  (60.4, 0.0)   \n",
       "2018-06-20 10:41:00 2018-06-20 10:41:00  54.6  51.8  51.4  58.8  (58.8, 0.0)   \n",
       "\n",
       "                            -27D         -26D         -25D         -24D  ...  \\\n",
       "ds                                                                       ...   \n",
       "2018-06-20 10:37:00  (57.6, 0.0)  (60.6, 0.0)  (46.8, 0.0)  (45.6, 0.0)  ...   \n",
       "2018-06-20 10:38:00  (57.2, 0.0)  (60.2, 0.0)  (46.2, 0.0)  (44.0, 0.0)  ...   \n",
       "2018-06-20 10:39:00  (56.6, 0.0)  (58.2, 0.0)  (44.2, 0.0)  (41.8, 0.0)  ...   \n",
       "2018-06-20 10:40:00  (54.4, 0.0)  (56.2, 0.0)  (43.0, 0.0)  (39.2, 0.0)  ...   \n",
       "2018-06-20 10:41:00  (54.2, 0.0)  (50.8, 0.0)  (41.8, 0.0)  (35.6, 0.0)  ...   \n",
       "\n",
       "                             -9D          -8D          -7D          -6D  \\\n",
       "ds                                                                        \n",
       "2018-06-20 10:37:00  (60.0, 0.0)  (52.2, 0.0)  (50.4, 0.0)  (53.4, 0.0)   \n",
       "2018-06-20 10:38:00  (60.0, 0.0)  (50.8, 0.0)  (50.2, 0.0)  (54.4, 0.0)   \n",
       "2018-06-20 10:39:00  (56.8, 0.0)  (48.6, 0.0)  (49.8, 0.0)  (55.4, 0.0)   \n",
       "2018-06-20 10:40:00  (57.0, 0.0)  (48.6, 0.0)  (48.2, 0.0)  (57.8, 0.0)   \n",
       "2018-06-20 10:41:00  (55.4, 0.0)  (51.8, 0.0)  (51.8, 0.0)  (59.2, 0.0)   \n",
       "\n",
       "                             -5D          -4D          -3D          -2D  \\\n",
       "ds                                                                        \n",
       "2018-06-20 10:37:00  (56.0, 0.0)  (43.2, 0.0)  (40.0, 0.0)  (55.6, 0.0)   \n",
       "2018-06-20 10:38:00  (53.2, 0.0)  (46.2, 0.0)  (40.6, 0.0)  (54.4, 0.0)   \n",
       "2018-06-20 10:39:00  (50.8, 0.0)  (46.0, 0.0)  (40.0, 0.0)  (54.4, 0.0)   \n",
       "2018-06-20 10:40:00  (52.6, 0.0)  (46.4, 0.0)  (41.4, 0.0)  (58.4, 0.0)   \n",
       "2018-06-20 10:41:00  (48.6, 0.0)  (46.8, 0.0)  (40.6, 0.0)  (54.0, 0.0)   \n",
       "\n",
       "                             -1D         0D  \n",
       "ds                                           \n",
       "2018-06-20 10:37:00  (42.6, 0.0)  (54.0, 0)  \n",
       "2018-06-20 10:38:00  (42.6, 0.0)  (56.4, 0)  \n",
       "2018-06-20 10:39:00  (44.8, 0.0)  (55.2, 0)  \n",
       "2018-06-20 10:40:00  (46.6, 0.0)  (55.4, 0)  \n",
       "2018-06-20 10:41:00  (53.0, 0.0)  (54.6, 0)  \n",
       "\n",
       "[5 rows x 34 columns]"
      ]
     },
     "execution_count": 45,
     "metadata": {},
     "output_type": "execute_result"
    }
   ],
   "source": [
    "cdf.head()"
   ]
  },
  {
   "cell_type": "markdown",
   "metadata": {},
   "source": [
    "## Day of the Week Feat Extraction"
   ]
  },
  {
   "cell_type": "code",
   "execution_count": 46,
   "metadata": {},
   "outputs": [],
   "source": [
    "d_list = ['day_Monday', 'day_Tuesday', 'day_Wednesday','day_Thursday', 'day_Friday',  'day_Saturday','day_Sunday']\n",
    "d_list = [ x[4:] for x in d_list]"
   ]
  },
  {
   "cell_type": "code",
   "execution_count": 47,
   "metadata": {},
   "outputs": [],
   "source": [
    "def symm_diff(curr,other):\n",
    "    a  = min(curr,other)\n",
    "    b  = max(curr,other )\n",
    "    b  = b - a\n",
    "    if b <= 3  :\n",
    "        return b\n",
    "    else:\n",
    "        return 7 - b\n",
    "alpha = 0.4\n",
    "for i in range(len(d_list)) :\n",
    "    day = d_list[i]\n",
    "#     print(day,i)\n",
    "    cdf[day] = cdf['dt'].dt.dayofweek.apply( lambda x : np.exp(-1*((symm_diff(i,x))**2)/(2*alpha)) )"
   ]
  },
  {
   "cell_type": "code",
   "execution_count": 48,
   "metadata": {},
   "outputs": [],
   "source": [
    "# output_notebook()\n",
    "colors = ['#003f5c','#374c80','#7a5195','#bc5090','#ef5675','#ff764a','#ffa600']\n",
    "TOOLS = 'save,box_zoom,reset,wheel_zoom,pan'\n",
    "p = figure(title=\"OPM\", y_axis_type=\"linear\", plot_height = 800,x_axis_type=\"datetime\",\n",
    "           tools = TOOLS, plot_width = 900)\n",
    "p.xaxis.axis_label = 'Time'\n",
    "p.yaxis.axis_label = 'OPM'\n",
    "for i in range(len(d_list)) :\n",
    "    day = d_list[i]\n",
    "    p.line(cdf['dt'],cdf[day],color = colors[i],line_cap = 'round',legend = day)\n",
    "#     break\n",
    "# p.circle(ndf['ds'],ndf['yhat'],color = 'orange',line_cap = 'round' )\n",
    "# p.line(ndf['ds'],ndf['yhat'],color = 'orange',line_cap = 'round' )\n",
    "# p.circle(ndf['ds'],ndf['y'],color = 'red', line_cap = 'round')\n",
    "# p.line(ndf['ds'],ndf['y'],color = 'red', line_cap = 'round')\n",
    "show(p)"
   ]
  },
  {
   "cell_type": "code",
   "execution_count": 49,
   "metadata": {},
   "outputs": [],
   "source": [
    "cdf['h'] = cdf['dt'].dt.date.apply( lambda x : .8 if x in uk_holidays else  .2 if timedelta(days = 1) + x in uk_holidays or  x - timedelta(days = 1)  in uk_holidays  else  -10000 )"
   ]
  },
  {
   "cell_type": "code",
   "execution_count": 50,
   "metadata": {},
   "outputs": [],
   "source": [
    "beta = 0.4\n",
    "cdf['h_rbf'] =  cdf['h'].apply( lambda x : np.exp(-1*((x - .8)**2)/(2*beta))  )"
   ]
  },
  {
   "cell_type": "code",
   "execution_count": 51,
   "metadata": {},
   "outputs": [],
   "source": [
    "# output_notebook()\n",
    "colors = ['#003f5c','#374c80','#7a5195','#bc5090','#ef5675','#ff764a','#ffa600']\n",
    "TOOLS = 'save,box_zoom,reset,wheel_zoom,pan'\n",
    "p = figure(title=\"OPM\", y_axis_type=\"linear\", plot_height = 800,x_axis_type=\"datetime\",\n",
    "           tools = TOOLS, plot_width = 900)\n",
    "p.xaxis.axis_label = 'Time'\n",
    "p.yaxis.axis_label = 'holiday'\n",
    "p.line( cdf['dt'],cdf['h_rbf'],line_width = 4)\n",
    "# p.line(ndf['ds'],ndf['y'],color = 'red', line_cap = 'round')\n",
    "show(p)"
   ]
  },
  {
   "cell_type": "code",
   "execution_count": 52,
   "metadata": {},
   "outputs": [],
   "source": [
    "exogenous  =  cdf[['h_rbf']+d_list]"
   ]
  },
  {
   "cell_type": "code",
   "execution_count": 53,
   "metadata": {},
   "outputs": [
    {
     "data": {
      "text/html": [
       "<div>\n",
       "<style scoped>\n",
       "    .dataframe tbody tr th:only-of-type {\n",
       "        vertical-align: middle;\n",
       "    }\n",
       "\n",
       "    .dataframe tbody tr th {\n",
       "        vertical-align: top;\n",
       "    }\n",
       "\n",
       "    .dataframe thead th {\n",
       "        text-align: right;\n",
       "    }\n",
       "</style>\n",
       "<table border=\"1\" class=\"dataframe\">\n",
       "  <thead>\n",
       "    <tr style=\"text-align: right;\">\n",
       "      <th></th>\n",
       "      <th>h_rbf</th>\n",
       "      <th>Monday</th>\n",
       "      <th>Tuesday</th>\n",
       "      <th>Wednesday</th>\n",
       "      <th>Thursday</th>\n",
       "      <th>Friday</th>\n",
       "      <th>Saturday</th>\n",
       "      <th>Sunday</th>\n",
       "    </tr>\n",
       "  </thead>\n",
       "  <tbody>\n",
       "    <tr>\n",
       "      <th>count</th>\n",
       "      <td>390195.000000</td>\n",
       "      <td>390195.000000</td>\n",
       "      <td>390195.000000</td>\n",
       "      <td>390195.000000</td>\n",
       "      <td>390195.000000</td>\n",
       "      <td>390195.000000</td>\n",
       "      <td>390195.000000</td>\n",
       "      <td>390195.000000</td>\n",
       "    </tr>\n",
       "    <tr>\n",
       "      <th>mean</th>\n",
       "      <td>0.077372</td>\n",
       "      <td>0.224980</td>\n",
       "      <td>0.223759</td>\n",
       "      <td>0.226371</td>\n",
       "      <td>0.227791</td>\n",
       "      <td>0.228249</td>\n",
       "      <td>0.228177</td>\n",
       "      <td>0.227183</td>\n",
       "    </tr>\n",
       "    <tr>\n",
       "      <th>std</th>\n",
       "      <td>0.239487</td>\n",
       "      <td>0.338329</td>\n",
       "      <td>0.336933</td>\n",
       "      <td>0.339401</td>\n",
       "      <td>0.339585</td>\n",
       "      <td>0.339776</td>\n",
       "      <td>0.339797</td>\n",
       "      <td>0.339499</td>\n",
       "    </tr>\n",
       "    <tr>\n",
       "      <th>min</th>\n",
       "      <td>0.000000</td>\n",
       "      <td>0.000013</td>\n",
       "      <td>0.000013</td>\n",
       "      <td>0.000013</td>\n",
       "      <td>0.000013</td>\n",
       "      <td>0.000013</td>\n",
       "      <td>0.000013</td>\n",
       "      <td>0.000013</td>\n",
       "    </tr>\n",
       "    <tr>\n",
       "      <th>25%</th>\n",
       "      <td>0.000000</td>\n",
       "      <td>0.000013</td>\n",
       "      <td>0.000013</td>\n",
       "      <td>0.000013</td>\n",
       "      <td>0.000013</td>\n",
       "      <td>0.000013</td>\n",
       "      <td>0.000013</td>\n",
       "      <td>0.000013</td>\n",
       "    </tr>\n",
       "    <tr>\n",
       "      <th>50%</th>\n",
       "      <td>0.000000</td>\n",
       "      <td>0.006738</td>\n",
       "      <td>0.006738</td>\n",
       "      <td>0.006738</td>\n",
       "      <td>0.006738</td>\n",
       "      <td>0.006738</td>\n",
       "      <td>0.006738</td>\n",
       "      <td>0.006738</td>\n",
       "    </tr>\n",
       "    <tr>\n",
       "      <th>75%</th>\n",
       "      <td>0.000000</td>\n",
       "      <td>0.286505</td>\n",
       "      <td>0.286505</td>\n",
       "      <td>0.286505</td>\n",
       "      <td>0.286505</td>\n",
       "      <td>0.286505</td>\n",
       "      <td>0.286505</td>\n",
       "      <td>0.286505</td>\n",
       "    </tr>\n",
       "    <tr>\n",
       "      <th>max</th>\n",
       "      <td>1.000000</td>\n",
       "      <td>1.000000</td>\n",
       "      <td>1.000000</td>\n",
       "      <td>1.000000</td>\n",
       "      <td>1.000000</td>\n",
       "      <td>1.000000</td>\n",
       "      <td>1.000000</td>\n",
       "      <td>1.000000</td>\n",
       "    </tr>\n",
       "  </tbody>\n",
       "</table>\n",
       "</div>"
      ],
      "text/plain": [
       "               h_rbf         Monday        Tuesday      Wednesday  \\\n",
       "count  390195.000000  390195.000000  390195.000000  390195.000000   \n",
       "mean        0.077372       0.224980       0.223759       0.226371   \n",
       "std         0.239487       0.338329       0.336933       0.339401   \n",
       "min         0.000000       0.000013       0.000013       0.000013   \n",
       "25%         0.000000       0.000013       0.000013       0.000013   \n",
       "50%         0.000000       0.006738       0.006738       0.006738   \n",
       "75%         0.000000       0.286505       0.286505       0.286505   \n",
       "max         1.000000       1.000000       1.000000       1.000000   \n",
       "\n",
       "            Thursday         Friday       Saturday         Sunday  \n",
       "count  390195.000000  390195.000000  390195.000000  390195.000000  \n",
       "mean        0.227791       0.228249       0.228177       0.227183  \n",
       "std         0.339585       0.339776       0.339797       0.339499  \n",
       "min         0.000013       0.000013       0.000013       0.000013  \n",
       "25%         0.000013       0.000013       0.000013       0.000013  \n",
       "50%         0.006738       0.006738       0.006738       0.006738  \n",
       "75%         0.286505       0.286505       0.286505       0.286505  \n",
       "max         1.000000       1.000000       1.000000       1.000000  "
      ]
     },
     "execution_count": 53,
     "metadata": {},
     "output_type": "execute_result"
    }
   ],
   "source": [
    "exogenous.describe()"
   ]
  },
  {
   "cell_type": "code",
   "execution_count": 54,
   "metadata": {},
   "outputs": [],
   "source": [
    "# exogenous = exoge"
   ]
  },
  {
   "cell_type": "code",
   "execution_count": 55,
   "metadata": {},
   "outputs": [],
   "source": [
    "X_inference = { 'encoderIn':XX_encoder_inf, 'nn' : exogenous.values }\n",
    "Y_inf = Y_nn\n",
    "MLP_data = {'X':X_inference,'Y':Y_inf,'dt':list(cdf['dt'])}"
   ]
  },
  {
   "cell_type": "code",
   "execution_count": 56,
   "metadata": {},
   "outputs": [],
   "source": [
    "op_data = {'vae':VAE_data,'mlp':MLP_data}"
   ]
  },
  {
   "cell_type": "code",
   "execution_count": 58,
   "metadata": {},
   "outputs": [],
   "source": [
    "import pickle"
   ]
  },
  {
   "cell_type": "code",
   "execution_count": 59,
   "metadata": {},
   "outputs": [],
   "source": [
    "file_name = path_to_ds+'/op_data.csv'"
   ]
  },
  {
   "cell_type": "code",
   "execution_count": null,
   "metadata": {},
   "outputs": [],
   "source": [
    "with open(file_name,'wb') as f:\n",
    "    pickle.dump()"
   ]
  },
  {
   "cell_type": "code",
   "execution_count": null,
   "metadata": {},
   "outputs": [],
   "source": []
  },
  {
   "cell_type": "code",
   "execution_count": null,
   "metadata": {},
   "outputs": [],
   "source": []
  },
  {
   "cell_type": "code",
   "execution_count": null,
   "metadata": {},
   "outputs": [],
   "source": []
  },
  {
   "cell_type": "code",
   "execution_count": null,
   "metadata": {},
   "outputs": [],
   "source": []
  }
 ],
 "metadata": {
  "kernelspec": {
   "display_name": "Python 3",
   "language": "python",
   "name": "python3"
  },
  "language_info": {
   "codemirror_mode": {
    "name": "ipython",
    "version": 3
   },
   "file_extension": ".py",
   "mimetype": "text/x-python",
   "name": "python",
   "nbconvert_exporter": "python",
   "pygments_lexer": "ipython3",
   "version": "3.7.3"
  }
 },
 "nbformat": 4,
 "nbformat_minor": 2
}
